{
 "cells": [
  {
   "cell_type": "code",
   "execution_count": 1,
   "metadata": {},
   "outputs": [],
   "source": [
    "#load library\n",
    "import pandas as pd\n",
    "import numpy as np\n",
    "import seaborn as sns\n",
    "import matplotlib.pyplot as plt\n",
    "from scipy.stats import pearsonr\n",
    "import datetime as dt"
   ]
  },
  {
   "cell_type": "code",
   "execution_count": 3,
   "metadata": {},
   "outputs": [
    {
     "data": {
      "text/html": [
       "<div>\n",
       "<style scoped>\n",
       "    .dataframe tbody tr th:only-of-type {\n",
       "        vertical-align: middle;\n",
       "    }\n",
       "\n",
       "    .dataframe tbody tr th {\n",
       "        vertical-align: top;\n",
       "    }\n",
       "\n",
       "    .dataframe thead th {\n",
       "        text-align: right;\n",
       "    }\n",
       "</style>\n",
       "<table border=\"1\" class=\"dataframe\">\n",
       "  <thead>\n",
       "    <tr style=\"text-align: right;\">\n",
       "      <th></th>\n",
       "      <th>pickup_datetime</th>\n",
       "      <th>pickup_latitude</th>\n",
       "      <th>pickup_longitude</th>\n",
       "      <th>base</th>\n",
       "      <th>NTA</th>\n",
       "    </tr>\n",
       "  </thead>\n",
       "  <tbody>\n",
       "    <tr>\n",
       "      <th>0</th>\n",
       "      <td>4/26/14 20:54</td>\n",
       "      <td>40.6102</td>\n",
       "      <td>-73.9624</td>\n",
       "      <td>B02682</td>\n",
       "      <td>BK43</td>\n",
       "    </tr>\n",
       "    <tr>\n",
       "      <th>1</th>\n",
       "      <td>9/1/2014 10:13:00</td>\n",
       "      <td>40.6102</td>\n",
       "      <td>-73.9611</td>\n",
       "      <td>B02598</td>\n",
       "      <td>BK43</td>\n",
       "    </tr>\n",
       "    <tr>\n",
       "      <th>2</th>\n",
       "      <td>8/15/2014 10:17:00</td>\n",
       "      <td>40.6102</td>\n",
       "      <td>-73.9610</td>\n",
       "      <td>B02598</td>\n",
       "      <td>BK43</td>\n",
       "    </tr>\n",
       "    <tr>\n",
       "      <th>3</th>\n",
       "      <td>8/18/2014 9:41:00</td>\n",
       "      <td>40.6102</td>\n",
       "      <td>-73.9609</td>\n",
       "      <td>B02617</td>\n",
       "      <td>BK43</td>\n",
       "    </tr>\n",
       "    <tr>\n",
       "      <th>4</th>\n",
       "      <td>9/10/2014 10:14:00</td>\n",
       "      <td>40.6103</td>\n",
       "      <td>-73.9623</td>\n",
       "      <td>B02598</td>\n",
       "      <td>BK43</td>\n",
       "    </tr>\n",
       "  </tbody>\n",
       "</table>\n",
       "</div>"
      ],
      "text/plain": [
       "      pickup_datetime  pickup_latitude  pickup_longitude    base   NTA\n",
       "0       4/26/14 20:54          40.6102          -73.9624  B02682  BK43\n",
       "1   9/1/2014 10:13:00          40.6102          -73.9611  B02598  BK43\n",
       "2  8/15/2014 10:17:00          40.6102          -73.9610  B02598  BK43\n",
       "3   8/18/2014 9:41:00          40.6102          -73.9609  B02617  BK43\n",
       "4  9/10/2014 10:14:00          40.6103          -73.9623  B02598  BK43"
      ]
     },
     "execution_count": 3,
     "metadata": {},
     "output_type": "execute_result"
    }
   ],
   "source": [
    "###load the Uber 2014 data and count the trips by NTA\n",
    "Uber2014 = pd.read_csv(\"../uber_2014_NTA.csv\", sep = \",\")\n",
    "Uber2014.head()"
   ]
  },
  {
   "cell_type": "code",
   "execution_count": 5,
   "metadata": {},
   "outputs": [
    {
     "data": {
      "text/plain": [
       "pickup_datetime      object\n",
       "pickup_latitude     float64\n",
       "pickup_longitude    float64\n",
       "base                 object\n",
       "NTA                  object\n",
       "dtype: object"
      ]
     },
     "execution_count": 5,
     "metadata": {},
     "output_type": "execute_result"
    }
   ],
   "source": [
    "Uber2014.dtypes"
   ]
  },
  {
   "cell_type": "code",
   "execution_count": 7,
   "metadata": {},
   "outputs": [],
   "source": [
    "Uber2014[\"pickup_datetime\"] = pd.to_datetime(Uber2014[\"pickup_datetime\"])"
   ]
  },
  {
   "cell_type": "code",
   "execution_count": 9,
   "metadata": {},
   "outputs": [
    {
     "data": {
      "text/html": [
       "<div>\n",
       "<style scoped>\n",
       "    .dataframe tbody tr th:only-of-type {\n",
       "        vertical-align: middle;\n",
       "    }\n",
       "\n",
       "    .dataframe tbody tr th {\n",
       "        vertical-align: top;\n",
       "    }\n",
       "\n",
       "    .dataframe thead th {\n",
       "        text-align: right;\n",
       "    }\n",
       "</style>\n",
       "<table border=\"1\" class=\"dataframe\">\n",
       "  <thead>\n",
       "    <tr style=\"text-align: right;\">\n",
       "      <th></th>\n",
       "      <th>pickup_datetime</th>\n",
       "      <th>pickup_latitude</th>\n",
       "      <th>pickup_longitude</th>\n",
       "      <th>base</th>\n",
       "      <th>NTA</th>\n",
       "    </tr>\n",
       "  </thead>\n",
       "  <tbody>\n",
       "    <tr>\n",
       "      <th>0</th>\n",
       "      <td>2014-04-26 20:54:00</td>\n",
       "      <td>40.6102</td>\n",
       "      <td>-73.9624</td>\n",
       "      <td>B02682</td>\n",
       "      <td>BK43</td>\n",
       "    </tr>\n",
       "    <tr>\n",
       "      <th>1</th>\n",
       "      <td>2014-09-01 10:13:00</td>\n",
       "      <td>40.6102</td>\n",
       "      <td>-73.9611</td>\n",
       "      <td>B02598</td>\n",
       "      <td>BK43</td>\n",
       "    </tr>\n",
       "    <tr>\n",
       "      <th>2</th>\n",
       "      <td>2014-08-15 10:17:00</td>\n",
       "      <td>40.6102</td>\n",
       "      <td>-73.9610</td>\n",
       "      <td>B02598</td>\n",
       "      <td>BK43</td>\n",
       "    </tr>\n",
       "    <tr>\n",
       "      <th>3</th>\n",
       "      <td>2014-08-18 09:41:00</td>\n",
       "      <td>40.6102</td>\n",
       "      <td>-73.9609</td>\n",
       "      <td>B02617</td>\n",
       "      <td>BK43</td>\n",
       "    </tr>\n",
       "    <tr>\n",
       "      <th>4</th>\n",
       "      <td>2014-09-10 10:14:00</td>\n",
       "      <td>40.6103</td>\n",
       "      <td>-73.9623</td>\n",
       "      <td>B02598</td>\n",
       "      <td>BK43</td>\n",
       "    </tr>\n",
       "  </tbody>\n",
       "</table>\n",
       "</div>"
      ],
      "text/plain": [
       "      pickup_datetime  pickup_latitude  pickup_longitude    base   NTA\n",
       "0 2014-04-26 20:54:00          40.6102          -73.9624  B02682  BK43\n",
       "1 2014-09-01 10:13:00          40.6102          -73.9611  B02598  BK43\n",
       "2 2014-08-15 10:17:00          40.6102          -73.9610  B02598  BK43\n",
       "3 2014-08-18 09:41:00          40.6102          -73.9609  B02617  BK43\n",
       "4 2014-09-10 10:14:00          40.6103          -73.9623  B02598  BK43"
      ]
     },
     "execution_count": 9,
     "metadata": {},
     "output_type": "execute_result"
    }
   ],
   "source": [
    "Uber2014.head()"
   ]
  },
  {
   "cell_type": "code",
   "execution_count": 91,
   "metadata": {},
   "outputs": [
    {
     "data": {
      "text/html": [
       "<div>\n",
       "<style scoped>\n",
       "    .dataframe tbody tr th:only-of-type {\n",
       "        vertical-align: middle;\n",
       "    }\n",
       "\n",
       "    .dataframe tbody tr th {\n",
       "        vertical-align: top;\n",
       "    }\n",
       "\n",
       "    .dataframe thead th {\n",
       "        text-align: right;\n",
       "    }\n",
       "</style>\n",
       "<table border=\"1\" class=\"dataframe\">\n",
       "  <thead>\n",
       "    <tr style=\"text-align: right;\">\n",
       "      <th></th>\n",
       "      <th>nta_code</th>\n",
       "      <th>trip_count</th>\n",
       "    </tr>\n",
       "  </thead>\n",
       "  <tbody>\n",
       "    <tr>\n",
       "      <th>0</th>\n",
       "      <td>MN17</td>\n",
       "      <td>616172</td>\n",
       "    </tr>\n",
       "    <tr>\n",
       "      <th>1</th>\n",
       "      <td>MN13</td>\n",
       "      <td>423856</td>\n",
       "    </tr>\n",
       "    <tr>\n",
       "      <th>2</th>\n",
       "      <td>MN24</td>\n",
       "      <td>367005</td>\n",
       "    </tr>\n",
       "    <tr>\n",
       "      <th>3</th>\n",
       "      <td>MN23</td>\n",
       "      <td>363458</td>\n",
       "    </tr>\n",
       "    <tr>\n",
       "      <th>4</th>\n",
       "      <td>MN19</td>\n",
       "      <td>202878</td>\n",
       "    </tr>\n",
       "  </tbody>\n",
       "</table>\n",
       "</div>"
      ],
      "text/plain": [
       "  nta_code  trip_count\n",
       "0     MN17      616172\n",
       "1     MN13      423856\n",
       "2     MN24      367005\n",
       "3     MN23      363458\n",
       "4     MN19      202878"
      ]
     },
     "execution_count": 91,
     "metadata": {},
     "output_type": "execute_result"
    }
   ],
   "source": [
    "NTA_counts2014 = Uber2014[\"NTA\"].value_counts().reset_index() ##193 NTA\n",
    "NTA_counts2014.columns = [\"nta_code\", \"trip_count\"]\n",
    "NTA_counts2014.head()"
   ]
  },
  {
   "cell_type": "code",
   "execution_count": 93,
   "metadata": {},
   "outputs": [
    {
     "data": {
      "text/html": [
       "<div>\n",
       "<style scoped>\n",
       "    .dataframe tbody tr th:only-of-type {\n",
       "        vertical-align: middle;\n",
       "    }\n",
       "\n",
       "    .dataframe tbody tr th {\n",
       "        vertical-align: top;\n",
       "    }\n",
       "\n",
       "    .dataframe thead th {\n",
       "        text-align: right;\n",
       "    }\n",
       "</style>\n",
       "<table border=\"1\" class=\"dataframe\">\n",
       "  <thead>\n",
       "    <tr style=\"text-align: right;\">\n",
       "      <th></th>\n",
       "      <th>nta_name</th>\n",
       "      <th>borough</th>\n",
       "      <th>nta_code</th>\n",
       "      <th>population</th>\n",
       "      <th>under_5_years</th>\n",
       "      <th>5-9_years</th>\n",
       "      <th>10-14_years</th>\n",
       "      <th>15-19_years</th>\n",
       "      <th>20-24_years</th>\n",
       "      <th>25-29_years</th>\n",
       "      <th>...</th>\n",
       "      <th>15000_to_24999</th>\n",
       "      <th>25000_to_34999</th>\n",
       "      <th>35000_to_49999</th>\n",
       "      <th>50000_to_74999</th>\n",
       "      <th>75000_to_99999</th>\n",
       "      <th>100000_to_149999</th>\n",
       "      <th>150000_to_199999</th>\n",
       "      <th>200000_or_more</th>\n",
       "      <th>median_income</th>\n",
       "      <th>mean_income</th>\n",
       "    </tr>\n",
       "  </thead>\n",
       "  <tbody>\n",
       "    <tr>\n",
       "      <th>0</th>\n",
       "      <td>Allerton-Pelham Gardens</td>\n",
       "      <td>Bronx</td>\n",
       "      <td>BX31</td>\n",
       "      <td>28903</td>\n",
       "      <td>1679</td>\n",
       "      <td>1706</td>\n",
       "      <td>1763</td>\n",
       "      <td>2039</td>\n",
       "      <td>1964</td>\n",
       "      <td>1703</td>\n",
       "      <td>...</td>\n",
       "      <td>797</td>\n",
       "      <td>773</td>\n",
       "      <td>1160</td>\n",
       "      <td>1764</td>\n",
       "      <td>1155</td>\n",
       "      <td>1562</td>\n",
       "      <td>765</td>\n",
       "      <td>427</td>\n",
       "      <td>61638</td>\n",
       "      <td>78489</td>\n",
       "    </tr>\n",
       "    <tr>\n",
       "      <th>1</th>\n",
       "      <td>Annadale-Huguenot-Prince's Bay-Eltingville</td>\n",
       "      <td>Staten Island</td>\n",
       "      <td>SI01</td>\n",
       "      <td>27770</td>\n",
       "      <td>1397</td>\n",
       "      <td>1698</td>\n",
       "      <td>1817</td>\n",
       "      <td>1880</td>\n",
       "      <td>1720</td>\n",
       "      <td>1594</td>\n",
       "      <td>...</td>\n",
       "      <td>571</td>\n",
       "      <td>405</td>\n",
       "      <td>1008</td>\n",
       "      <td>1523</td>\n",
       "      <td>1346</td>\n",
       "      <td>2075</td>\n",
       "      <td>1086</td>\n",
       "      <td>1151</td>\n",
       "      <td>88288</td>\n",
       "      <td>109187</td>\n",
       "    </tr>\n",
       "    <tr>\n",
       "      <th>2</th>\n",
       "      <td>Arden Heights</td>\n",
       "      <td>Staten Island</td>\n",
       "      <td>SI48</td>\n",
       "      <td>25238</td>\n",
       "      <td>1507</td>\n",
       "      <td>1540</td>\n",
       "      <td>1596</td>\n",
       "      <td>1752</td>\n",
       "      <td>1614</td>\n",
       "      <td>1561</td>\n",
       "      <td>...</td>\n",
       "      <td>337</td>\n",
       "      <td>516</td>\n",
       "      <td>707</td>\n",
       "      <td>1421</td>\n",
       "      <td>1611</td>\n",
       "      <td>2021</td>\n",
       "      <td>1047</td>\n",
       "      <td>740</td>\n",
       "      <td>89570</td>\n",
       "      <td>101627</td>\n",
       "    </tr>\n",
       "    <tr>\n",
       "      <th>3</th>\n",
       "      <td>Astoria</td>\n",
       "      <td>Queens</td>\n",
       "      <td>QN70</td>\n",
       "      <td>78793</td>\n",
       "      <td>3480</td>\n",
       "      <td>3037</td>\n",
       "      <td>3060</td>\n",
       "      <td>3392</td>\n",
       "      <td>6630</td>\n",
       "      <td>11586</td>\n",
       "      <td>...</td>\n",
       "      <td>3673</td>\n",
       "      <td>2816</td>\n",
       "      <td>4725</td>\n",
       "      <td>6463</td>\n",
       "      <td>4557</td>\n",
       "      <td>4698</td>\n",
       "      <td>1627</td>\n",
       "      <td>1197</td>\n",
       "      <td>54882</td>\n",
       "      <td>70094</td>\n",
       "    </tr>\n",
       "    <tr>\n",
       "      <th>4</th>\n",
       "      <td>Auburndale</td>\n",
       "      <td>Queens</td>\n",
       "      <td>QN48</td>\n",
       "      <td>19996</td>\n",
       "      <td>917</td>\n",
       "      <td>966</td>\n",
       "      <td>1063</td>\n",
       "      <td>1168</td>\n",
       "      <td>1214</td>\n",
       "      <td>1307</td>\n",
       "      <td>...</td>\n",
       "      <td>445</td>\n",
       "      <td>632</td>\n",
       "      <td>690</td>\n",
       "      <td>1417</td>\n",
       "      <td>1060</td>\n",
       "      <td>1237</td>\n",
       "      <td>589</td>\n",
       "      <td>433</td>\n",
       "      <td>70772</td>\n",
       "      <td>84402</td>\n",
       "    </tr>\n",
       "  </tbody>\n",
       "</table>\n",
       "<p>5 rows × 33 columns</p>\n",
       "</div>"
      ],
      "text/plain": [
       "                                     nta_name        borough nta_code  \\\n",
       "0                     Allerton-Pelham Gardens          Bronx     BX31   \n",
       "1  Annadale-Huguenot-Prince's Bay-Eltingville  Staten Island     SI01   \n",
       "2                               Arden Heights  Staten Island     SI48   \n",
       "3                                     Astoria         Queens     QN70   \n",
       "4                                  Auburndale         Queens     QN48   \n",
       "\n",
       "   population  under_5_years  5-9_years  10-14_years  15-19_years  \\\n",
       "0       28903           1679       1706         1763         2039   \n",
       "1       27770           1397       1698         1817         1880   \n",
       "2       25238           1507       1540         1596         1752   \n",
       "3       78793           3480       3037         3060         3392   \n",
       "4       19996            917        966         1063         1168   \n",
       "\n",
       "   20-24_years  25-29_years     ...       15000_to_24999  25000_to_34999  \\\n",
       "0         1964         1703     ...                  797             773   \n",
       "1         1720         1594     ...                  571             405   \n",
       "2         1614         1561     ...                  337             516   \n",
       "3         6630        11586     ...                 3673            2816   \n",
       "4         1214         1307     ...                  445             632   \n",
       "\n",
       "   35000_to_49999  50000_to_74999  75000_to_99999  100000_to_149999  \\\n",
       "0            1160            1764            1155              1562   \n",
       "1            1008            1523            1346              2075   \n",
       "2             707            1421            1611              2021   \n",
       "3            4725            6463            4557              4698   \n",
       "4             690            1417            1060              1237   \n",
       "\n",
       "   150000_to_199999  200000_or_more  median_income  mean_income  \n",
       "0               765             427          61638        78489  \n",
       "1              1086            1151          88288       109187  \n",
       "2              1047             740          89570       101627  \n",
       "3              1627            1197          54882        70094  \n",
       "4               589             433          70772        84402  \n",
       "\n",
       "[5 rows x 33 columns]"
      ]
     },
     "execution_count": 93,
     "metadata": {},
     "output_type": "execute_result"
    }
   ],
   "source": [
    "#read demographic data\n",
    "demo = pd.read_csv(\"../final 9/demographics.csv\", sep = \",\")\n",
    "demo.head()"
   ]
  },
  {
   "cell_type": "code",
   "execution_count": 94,
   "metadata": {},
   "outputs": [
    {
     "data": {
      "text/plain": [
       "(188,)"
      ]
     },
     "execution_count": 94,
     "metadata": {},
     "output_type": "execute_result"
    }
   ],
   "source": [
    "##check how many NTA co-existed\n",
    "interNTA = np.intersect1d(demo[\"nta_code\"], NTA_counts2014[\"nta_code\"])\n",
    "interNTA.shape"
   ]
  },
  {
   "cell_type": "code",
   "execution_count": 99,
   "metadata": {},
   "outputs": [
    {
     "name": "stdout",
     "output_type": "stream",
     "text": [
      "(188, 34)\n"
     ]
    },
    {
     "data": {
      "text/html": [
       "<div>\n",
       "<style scoped>\n",
       "    .dataframe tbody tr th:only-of-type {\n",
       "        vertical-align: middle;\n",
       "    }\n",
       "\n",
       "    .dataframe tbody tr th {\n",
       "        vertical-align: top;\n",
       "    }\n",
       "\n",
       "    .dataframe thead th {\n",
       "        text-align: right;\n",
       "    }\n",
       "</style>\n",
       "<table border=\"1\" class=\"dataframe\">\n",
       "  <thead>\n",
       "    <tr style=\"text-align: right;\">\n",
       "      <th></th>\n",
       "      <th>nta_name</th>\n",
       "      <th>borough</th>\n",
       "      <th>nta_code</th>\n",
       "      <th>population</th>\n",
       "      <th>under_5_years</th>\n",
       "      <th>5-9_years</th>\n",
       "      <th>10-14_years</th>\n",
       "      <th>15-19_years</th>\n",
       "      <th>20-24_years</th>\n",
       "      <th>25-29_years</th>\n",
       "      <th>...</th>\n",
       "      <th>25000_to_34999</th>\n",
       "      <th>35000_to_49999</th>\n",
       "      <th>50000_to_74999</th>\n",
       "      <th>75000_to_99999</th>\n",
       "      <th>100000_to_149999</th>\n",
       "      <th>150000_to_199999</th>\n",
       "      <th>200000_or_more</th>\n",
       "      <th>median_income</th>\n",
       "      <th>mean_income</th>\n",
       "      <th>trip_count</th>\n",
       "    </tr>\n",
       "  </thead>\n",
       "  <tbody>\n",
       "    <tr>\n",
       "      <th>0</th>\n",
       "      <td>Allerton-Pelham Gardens</td>\n",
       "      <td>Bronx</td>\n",
       "      <td>BX31</td>\n",
       "      <td>28903</td>\n",
       "      <td>1679</td>\n",
       "      <td>1706</td>\n",
       "      <td>1763</td>\n",
       "      <td>2039</td>\n",
       "      <td>1964</td>\n",
       "      <td>1703</td>\n",
       "      <td>...</td>\n",
       "      <td>773</td>\n",
       "      <td>1160</td>\n",
       "      <td>1764</td>\n",
       "      <td>1155</td>\n",
       "      <td>1562</td>\n",
       "      <td>765</td>\n",
       "      <td>427</td>\n",
       "      <td>61638</td>\n",
       "      <td>78489</td>\n",
       "      <td>397</td>\n",
       "    </tr>\n",
       "    <tr>\n",
       "      <th>1</th>\n",
       "      <td>Annadale-Huguenot-Prince's Bay-Eltingville</td>\n",
       "      <td>Staten Island</td>\n",
       "      <td>SI01</td>\n",
       "      <td>27770</td>\n",
       "      <td>1397</td>\n",
       "      <td>1698</td>\n",
       "      <td>1817</td>\n",
       "      <td>1880</td>\n",
       "      <td>1720</td>\n",
       "      <td>1594</td>\n",
       "      <td>...</td>\n",
       "      <td>405</td>\n",
       "      <td>1008</td>\n",
       "      <td>1523</td>\n",
       "      <td>1346</td>\n",
       "      <td>2075</td>\n",
       "      <td>1086</td>\n",
       "      <td>1151</td>\n",
       "      <td>88288</td>\n",
       "      <td>109187</td>\n",
       "      <td>5</td>\n",
       "    </tr>\n",
       "    <tr>\n",
       "      <th>2</th>\n",
       "      <td>Arden Heights</td>\n",
       "      <td>Staten Island</td>\n",
       "      <td>SI48</td>\n",
       "      <td>25238</td>\n",
       "      <td>1507</td>\n",
       "      <td>1540</td>\n",
       "      <td>1596</td>\n",
       "      <td>1752</td>\n",
       "      <td>1614</td>\n",
       "      <td>1561</td>\n",
       "      <td>...</td>\n",
       "      <td>516</td>\n",
       "      <td>707</td>\n",
       "      <td>1421</td>\n",
       "      <td>1611</td>\n",
       "      <td>2021</td>\n",
       "      <td>1047</td>\n",
       "      <td>740</td>\n",
       "      <td>89570</td>\n",
       "      <td>101627</td>\n",
       "      <td>8</td>\n",
       "    </tr>\n",
       "    <tr>\n",
       "      <th>3</th>\n",
       "      <td>Astoria</td>\n",
       "      <td>Queens</td>\n",
       "      <td>QN70</td>\n",
       "      <td>78793</td>\n",
       "      <td>3480</td>\n",
       "      <td>3037</td>\n",
       "      <td>3060</td>\n",
       "      <td>3392</td>\n",
       "      <td>6630</td>\n",
       "      <td>11586</td>\n",
       "      <td>...</td>\n",
       "      <td>2816</td>\n",
       "      <td>4725</td>\n",
       "      <td>6463</td>\n",
       "      <td>4557</td>\n",
       "      <td>4698</td>\n",
       "      <td>1627</td>\n",
       "      <td>1197</td>\n",
       "      <td>54882</td>\n",
       "      <td>70094</td>\n",
       "      <td>16954</td>\n",
       "    </tr>\n",
       "    <tr>\n",
       "      <th>4</th>\n",
       "      <td>Auburndale</td>\n",
       "      <td>Queens</td>\n",
       "      <td>QN48</td>\n",
       "      <td>19996</td>\n",
       "      <td>917</td>\n",
       "      <td>966</td>\n",
       "      <td>1063</td>\n",
       "      <td>1168</td>\n",
       "      <td>1214</td>\n",
       "      <td>1307</td>\n",
       "      <td>...</td>\n",
       "      <td>632</td>\n",
       "      <td>690</td>\n",
       "      <td>1417</td>\n",
       "      <td>1060</td>\n",
       "      <td>1237</td>\n",
       "      <td>589</td>\n",
       "      <td>433</td>\n",
       "      <td>70772</td>\n",
       "      <td>84402</td>\n",
       "      <td>389</td>\n",
       "    </tr>\n",
       "  </tbody>\n",
       "</table>\n",
       "<p>5 rows × 34 columns</p>\n",
       "</div>"
      ],
      "text/plain": [
       "                                     nta_name        borough nta_code  \\\n",
       "0                     Allerton-Pelham Gardens          Bronx     BX31   \n",
       "1  Annadale-Huguenot-Prince's Bay-Eltingville  Staten Island     SI01   \n",
       "2                               Arden Heights  Staten Island     SI48   \n",
       "3                                     Astoria         Queens     QN70   \n",
       "4                                  Auburndale         Queens     QN48   \n",
       "\n",
       "   population  under_5_years  5-9_years  10-14_years  15-19_years  \\\n",
       "0       28903           1679       1706         1763         2039   \n",
       "1       27770           1397       1698         1817         1880   \n",
       "2       25238           1507       1540         1596         1752   \n",
       "3       78793           3480       3037         3060         3392   \n",
       "4       19996            917        966         1063         1168   \n",
       "\n",
       "   20-24_years  25-29_years     ...      25000_to_34999  35000_to_49999  \\\n",
       "0         1964         1703     ...                 773            1160   \n",
       "1         1720         1594     ...                 405            1008   \n",
       "2         1614         1561     ...                 516             707   \n",
       "3         6630        11586     ...                2816            4725   \n",
       "4         1214         1307     ...                 632             690   \n",
       "\n",
       "   50000_to_74999  75000_to_99999  100000_to_149999  150000_to_199999  \\\n",
       "0            1764            1155              1562               765   \n",
       "1            1523            1346              2075              1086   \n",
       "2            1421            1611              2021              1047   \n",
       "3            6463            4557              4698              1627   \n",
       "4            1417            1060              1237               589   \n",
       "\n",
       "   200000_or_more  median_income  mean_income  trip_count  \n",
       "0             427          61638        78489         397  \n",
       "1            1151          88288       109187           5  \n",
       "2             740          89570       101627           8  \n",
       "3            1197          54882        70094       16954  \n",
       "4             433          70772        84402         389  \n",
       "\n",
       "[5 rows x 34 columns]"
      ]
     },
     "execution_count": 99,
     "metadata": {},
     "output_type": "execute_result"
    }
   ],
   "source": [
    "## intersect two data frame by nta_code\n",
    "subsetdemo = pd.merge(demo, NTA_counts2014, how = \"inner\", on = [\"nta_code\"])\n",
    "print(subsetdemo.shape)\n",
    "subsetdemo.head()"
   ]
  },
  {
   "cell_type": "code",
   "execution_count": 100,
   "metadata": {},
   "outputs": [
    {
     "data": {
      "text/plain": [
       "Index(['nta_name', 'borough', 'nta_code', 'population', 'under_5_years',\n",
       "       '5-9_years', '10-14_years', '15-19_years', '20-24_years', '25-29_years',\n",
       "       '30-34_years', '35-39_years', '40-44_years', '45-49_years',\n",
       "       '50-54_years', '55-59_years', '60-64_years', 'over_65_years',\n",
       "       'median_age', 'people_per_acre', 'households', 'less_than_10,000',\n",
       "       '10000_to_14999', '15000_to_24999', '25000_to_34999', '35000_to_49999',\n",
       "       '50000_to_74999', '75000_to_99999', '100000_to_149999',\n",
       "       '150000_to_199999', '200000_or_more', 'median_income', 'mean_income',\n",
       "       'trip_count'],\n",
       "      dtype='object')"
      ]
     },
     "execution_count": 100,
     "metadata": {},
     "output_type": "execute_result"
    }
   ],
   "source": [
    "subsetdemo.columns"
   ]
  },
  {
   "cell_type": "code",
   "execution_count": 96,
   "metadata": {},
   "outputs": [
    {
     "data": {
      "image/png": "[encoded data removed]",
      "text/plain": [
       "<Figure size 432x288 with 1 Axes>"
      ]
     },
     "metadata": {
      "needs_background": "light"
     },
     "output_type": "display_data"
    }
   ],
   "source": [
    "###trip count versus borough\n",
    "bplot1 = sns.boxplot(x = \"borough\", y = \"trip_count\", data = subsetdemo, width = 0.5)"
   ]
  },
  {
   "cell_type": "code",
   "execution_count": 109,
   "metadata": {},
   "outputs": [
    {
     "data": {
      "image/png": "[encoded data removed]",
      "text/plain": [
       "<Figure size 432x288 with 1 Axes>"
      ]
     },
     "metadata": {
      "needs_background": "light"
     },
     "output_type": "display_data"
    }
   ],
   "source": [
    "##trip counts versus population\n",
    "fig, ax = plt.subplots()\n",
    "ax.set(xscale = \"log\", yscale =\"log\")\n",
    "sns.scatterplot(x = \"population\", y = \"trip_count\", data = subsetdemo, ax = ax)\n",
    "plt.show()\n",
    "\n",
    "#NOTE: need log transformation to see the correlation"
   ]
  },
  {
   "cell_type": "code",
   "execution_count": 108,
   "metadata": {},
   "outputs": [
    {
     "ename": "NameError",
     "evalue": "name 'subsetdemo' is not defined",
     "output_type": "error",
     "traceback": [
      "\u001b[0;31m---------------------------------------------------------------------------\u001b[0m",
      "\u001b[0;31mNameError\u001b[0m                                 Traceback (most recent call last)",
      "\u001b[0;32m<ipython-input-108-8d5e3f17130d>\u001b[0m in \u001b[0;36m<module>\u001b[0;34m\u001b[0m\n\u001b[1;32m      3\u001b[0m \u001b[0;32mfor\u001b[0m \u001b[0mi\u001b[0m \u001b[0;32min\u001b[0m \u001b[0mrange\u001b[0m\u001b[0;34m(\u001b[0m\u001b[0;36m3\u001b[0m\u001b[0;34m,\u001b[0m\u001b[0;36m19\u001b[0m\u001b[0;34m)\u001b[0m\u001b[0;34m:\u001b[0m\u001b[0;34m\u001b[0m\u001b[0;34m\u001b[0m\u001b[0m\n\u001b[1;32m      4\u001b[0m     \u001b[0mplt\u001b[0m\u001b[0;34m.\u001b[0m\u001b[0msubplot\u001b[0m\u001b[0;34m(\u001b[0m\u001b[0;36m5\u001b[0m\u001b[0;34m,\u001b[0m\u001b[0;36m4\u001b[0m\u001b[0;34m,\u001b[0m\u001b[0mi\u001b[0m\u001b[0;34m)\u001b[0m\u001b[0;34m\u001b[0m\u001b[0;34m\u001b[0m\u001b[0m\n\u001b[0;32m----> 5\u001b[0;31m     \u001b[0mx\u001b[0m \u001b[0;34m=\u001b[0m \u001b[0msubsetdemo\u001b[0m\u001b[0;34m.\u001b[0m\u001b[0miloc\u001b[0m\u001b[0;34m[\u001b[0m\u001b[0;34m:\u001b[0m\u001b[0;34m,\u001b[0m\u001b[0mi\u001b[0m\u001b[0;34m]\u001b[0m\u001b[0;34m\u001b[0m\u001b[0;34m\u001b[0m\u001b[0m\n\u001b[0m\u001b[1;32m      6\u001b[0m     \u001b[0mx\u001b[0m \u001b[0;34m=\u001b[0m \u001b[0mnp\u001b[0m\u001b[0;34m.\u001b[0m\u001b[0mlog\u001b[0m\u001b[0;34m(\u001b[0m\u001b[0mx\u001b[0m\u001b[0;34m)\u001b[0m\u001b[0;34m\u001b[0m\u001b[0;34m\u001b[0m\u001b[0m\n\u001b[1;32m      7\u001b[0m     \u001b[0my\u001b[0m \u001b[0;34m=\u001b[0m \u001b[0msubsetdemo\u001b[0m\u001b[0;34m.\u001b[0m\u001b[0mtrip_count\u001b[0m\u001b[0;34m\u001b[0m\u001b[0;34m\u001b[0m\u001b[0m\n",
      "\u001b[0;31mNameError\u001b[0m: name 'subsetdemo' is not defined"
     ]
    },
    {
     "data": {
      "image/png": "[encoded data removed]",
      "text/plain": [
       "<Figure size 1080x1080 with 1 Axes>"
      ]
     },
     "metadata": {
      "needs_background": "light"
     },
     "output_type": "display_data"
    }
   ],
   "source": [
    "##check the age categories distribution versus trip counts\n",
    "plt.figure(figsize = (15, 15))\n",
    "for i in range(3,19):\n",
    "    plt.subplot(5,4,i)\n",
    "    x = subsetdemo.iloc[:,i]\n",
    "    x = np.log(x)\n",
    "    y = subsetdemo.trip_count\n",
    "    y = np.log(y)\n",
    "    correlation, _ = pearsonr(x, y)\n",
    "    plt.scatter(x , y , data = subsetdemo)\n",
    "    plt.title(label = subsetdemo.columns[i] + \", Cor = \" + str(round(correlation, 3)))\n",
    "\n",
    "#Note: the correlations between age and trip_count are different for age range"
   ]
  },
  {
   "cell_type": "code",
   "execution_count": 133,
   "metadata": {},
   "outputs": [
    {
     "data": {
      "image/png": "[encoded data removed]",
      "text/plain": [
       "<Figure size 432x288 with 1 Axes>"
      ]
     },
     "metadata": {
      "needs_background": "light"
     },
     "output_type": "display_data"
    }
   ],
   "source": [
    "fig, ax = plt.subplots()\n",
    "ax.set(xscale = \"log\", yscale =\"log\")\n",
    "sns.scatterplot(x = \"people_per_acre\", y = \"trip_count\", data = subsetdemo, ax = ax)\n",
    "plt.show()\n",
    "\n",
    "#Note: very good correlation, population density is a better indicator than total population since NTA size are different"
   ]
  },
  {
   "cell_type": "code",
   "execution_count": 134,
   "metadata": {},
   "outputs": [
    {
     "data": {
      "image/png": "[encoded data removed]",
      "text/plain": [
       "<Figure size 432x288 with 1 Axes>"
      ]
     },
     "metadata": {
      "needs_background": "light"
     },
     "output_type": "display_data"
    }
   ],
   "source": [
    "fig, ax = plt.subplots()\n",
    "ax.set(xscale = \"log\", yscale =\"log\")\n",
    "sns.scatterplot(x = \"households\", y = \"trip_count\", data = subsetdemo, ax = ax)\n",
    "plt.show()\n",
    "\n",
    "##also good infor, but may show correlation with other variable"
   ]
  },
  {
   "cell_type": "code",
   "execution_count": 135,
   "metadata": {},
   "outputs": [
    {
     "name": "stdout",
     "output_type": "stream",
     "text": [
      "pearson cor = %.3f 0.9189145324689965\n"
     ]
    }
   ],
   "source": [
    "corr1, _ = pearsonr(subsetdemo[\"households\"], subsetdemo[\"population\"]) ##strong collinearity\n",
    "print(\"pearson cor = %.3f\", corr1)"
   ]
  },
  {
   "cell_type": "code",
   "execution_count": 136,
   "metadata": {},
   "outputs": [
    {
     "name": "stdout",
     "output_type": "stream",
     "text": [
      "pearson cor = %.3f 0.4458060166814308\n"
     ]
    }
   ],
   "source": [
    "corr2, _ = pearsonr(subsetdemo[\"people_per_acre\"], subsetdemo[\"population\"]) ##\n",
    "print(\"pearson cor = %.3f\", corr2) "
   ]
  },
  {
   "cell_type": "code",
   "execution_count": 137,
   "metadata": {},
   "outputs": [
    {
     "name": "stdout",
     "output_type": "stream",
     "text": [
      "pearson cor = %.3f 0.5052229093014726\n"
     ]
    }
   ],
   "source": [
    "corr3, _ = pearsonr(subsetdemo[\"people_per_acre\"], subsetdemo[\"households\"]) ##\n",
    "print(\"pearson cor = %.3f\", corr3) "
   ]
  },
  {
   "cell_type": "code",
   "execution_count": 140,
   "metadata": {},
   "outputs": [
    {
     "name": "stdout",
     "output_type": "stream",
     "text": [
      "22\n",
      "23\n",
      "24\n",
      "25\n",
      "26\n",
      "27\n",
      "28\n",
      "29\n",
      "30\n",
      "31\n",
      "32\n",
      "33\n"
     ]
    }
   ],
   "source": []
  },
  {
   "cell_type": "code",
   "execution_count": 148,
   "metadata": {},
   "outputs": [
    {
     "data": {
      "image/png": "[encoded data removed]",
      "text/plain": [
       "<Figure size 1080x1080 with 12 Axes>"
      ]
     },
     "metadata": {
      "needs_background": "light"
     },
     "output_type": "display_data"
    }
   ],
   "source": [
    "##check the age categories distribution versus trip counts\n",
    "plt.figure(figsize = (15, 15))\n",
    "for i in range(21,33):\n",
    "    plt.subplot(5,4,i-20)\n",
    "    x = subsetdemo.iloc[:,i]\n",
    "    x = np.log(x)\n",
    "    y = subsetdemo.trip_count\n",
    "    y = np.log(y)\n",
    "    correlation, _ = pearsonr(x, y)\n",
    "    plt.scatter(x , y , data = subsetdemo)\n",
    "    plt.title(label = subsetdemo.columns[i] + \", Cor = \" + str(round(correlation, 3)))\n",
    "    \n",
    "##seems like middle class show stronger correlation."
   ]
  },
  {
   "cell_type": "code",
   "execution_count": null,
   "metadata": {},
   "outputs": [],
   "source": [
    "##basically, three types of features:\n",
    "#(1) population density\n",
    "#(2) population age composition\n",
    "#(3) income composition\n",
    "#some of them show correlation, may need to be use careful.\n",
    "#use logarithm for data transformation helps to identify linear relation"
   ]
  },
  {
   "cell_type": "code",
   "execution_count": null,
   "metadata": {},
   "outputs": [],
   "source": [
    "###check the time affect to trip count"
   ]
  },
  {
   "cell_type": "code",
   "execution_count": 83,
   "metadata": {},
   "outputs": [
    {
     "data": {
      "text/html": [
       "<div>\n",
       "<style scoped>\n",
       "    .dataframe tbody tr th:only-of-type {\n",
       "        vertical-align: middle;\n",
       "    }\n",
       "\n",
       "    .dataframe tbody tr th {\n",
       "        vertical-align: top;\n",
       "    }\n",
       "\n",
       "    .dataframe thead th {\n",
       "        text-align: right;\n",
       "    }\n",
       "</style>\n",
       "<table border=\"1\" class=\"dataframe\">\n",
       "  <thead>\n",
       "    <tr style=\"text-align: right;\">\n",
       "      <th></th>\n",
       "      <th>pickup_datetime</th>\n",
       "      <th>pickup_latitude</th>\n",
       "      <th>pickup_longitude</th>\n",
       "      <th>base</th>\n",
       "      <th>NTA</th>\n",
       "      <th>month</th>\n",
       "      <th>day</th>\n",
       "      <th>hour</th>\n",
       "      <th>weekday</th>\n",
       "      <th>monthday</th>\n",
       "      <th>yearday</th>\n",
       "    </tr>\n",
       "  </thead>\n",
       "  <tbody>\n",
       "    <tr>\n",
       "      <th>0</th>\n",
       "      <td>2014-04-26 20:54:00</td>\n",
       "      <td>40.6102</td>\n",
       "      <td>-73.9624</td>\n",
       "      <td>B02682</td>\n",
       "      <td>BK43</td>\n",
       "      <td>4</td>\n",
       "      <td>2014-04-26</td>\n",
       "      <td>20</td>\n",
       "      <td>5</td>\n",
       "      <td>26</td>\n",
       "      <td>116</td>\n",
       "    </tr>\n",
       "    <tr>\n",
       "      <th>1</th>\n",
       "      <td>2014-09-01 10:13:00</td>\n",
       "      <td>40.6102</td>\n",
       "      <td>-73.9611</td>\n",
       "      <td>B02598</td>\n",
       "      <td>BK43</td>\n",
       "      <td>9</td>\n",
       "      <td>2014-09-01</td>\n",
       "      <td>10</td>\n",
       "      <td>0</td>\n",
       "      <td>1</td>\n",
       "      <td>244</td>\n",
       "    </tr>\n",
       "    <tr>\n",
       "      <th>2</th>\n",
       "      <td>2014-08-15 10:17:00</td>\n",
       "      <td>40.6102</td>\n",
       "      <td>-73.9610</td>\n",
       "      <td>B02598</td>\n",
       "      <td>BK43</td>\n",
       "      <td>8</td>\n",
       "      <td>2014-08-15</td>\n",
       "      <td>10</td>\n",
       "      <td>4</td>\n",
       "      <td>15</td>\n",
       "      <td>227</td>\n",
       "    </tr>\n",
       "    <tr>\n",
       "      <th>3</th>\n",
       "      <td>2014-08-18 09:41:00</td>\n",
       "      <td>40.6102</td>\n",
       "      <td>-73.9609</td>\n",
       "      <td>B02617</td>\n",
       "      <td>BK43</td>\n",
       "      <td>8</td>\n",
       "      <td>2014-08-18</td>\n",
       "      <td>9</td>\n",
       "      <td>0</td>\n",
       "      <td>18</td>\n",
       "      <td>230</td>\n",
       "    </tr>\n",
       "    <tr>\n",
       "      <th>4</th>\n",
       "      <td>2014-09-10 10:14:00</td>\n",
       "      <td>40.6103</td>\n",
       "      <td>-73.9623</td>\n",
       "      <td>B02598</td>\n",
       "      <td>BK43</td>\n",
       "      <td>9</td>\n",
       "      <td>2014-09-10</td>\n",
       "      <td>10</td>\n",
       "      <td>2</td>\n",
       "      <td>10</td>\n",
       "      <td>253</td>\n",
       "    </tr>\n",
       "  </tbody>\n",
       "</table>\n",
       "</div>"
      ],
      "text/plain": [
       "      pickup_datetime  pickup_latitude  pickup_longitude    base   NTA  month  \\\n",
       "0 2014-04-26 20:54:00          40.6102          -73.9624  B02682  BK43      4   \n",
       "1 2014-09-01 10:13:00          40.6102          -73.9611  B02598  BK43      9   \n",
       "2 2014-08-15 10:17:00          40.6102          -73.9610  B02598  BK43      8   \n",
       "3 2014-08-18 09:41:00          40.6102          -73.9609  B02617  BK43      8   \n",
       "4 2014-09-10 10:14:00          40.6103          -73.9623  B02598  BK43      9   \n",
       "\n",
       "          day  hour  weekday  monthday yearday  \n",
       "0  2014-04-26    20        5        26     116  \n",
       "1  2014-09-01    10        0         1     244  \n",
       "2  2014-08-15    10        4        15     227  \n",
       "3  2014-08-18     9        0        18     230  \n",
       "4  2014-09-10    10        2        10     253  "
      ]
     },
     "execution_count": 83,
     "metadata": {},
     "output_type": "execute_result"
    }
   ],
   "source": [
    "Uber2014[\"month\"] = Uber2014[\"pickup_datetime\"].dt.month\n",
    "Uber2014[\"yearday\"] = Uber2014[\"pickup_datetime\"].dt.strftime(\"%j\")\n",
    "Uber2014[\"day\"] = Uber2014[\"pickup_datetime\"].dt.date\n",
    "Uber2014[\"monthday\"] =  Uber2014[\"pickup_datetime\"].dt.day\n",
    "Uber2014[\"hour\"] = Uber2014[\"pickup_datetime\"].dt.hour\n",
    "Uber2014[\"weekday\"] = Uber2014[\"pickup_datetime\"].dt.weekday  ##Monday = 0, Sunday = 6"
   ]
  },
  {
   "cell_type": "code",
   "execution_count": 95,
   "metadata": {},
   "outputs": [
    {
     "data": {
      "text/html": [
       "<div>\n",
       "<style scoped>\n",
       "    .dataframe tbody tr th:only-of-type {\n",
       "        vertical-align: middle;\n",
       "    }\n",
       "\n",
       "    .dataframe tbody tr th {\n",
       "        vertical-align: top;\n",
       "    }\n",
       "\n",
       "    .dataframe thead th {\n",
       "        text-align: right;\n",
       "    }\n",
       "</style>\n",
       "<table border=\"1\" class=\"dataframe\">\n",
       "  <thead>\n",
       "    <tr style=\"text-align: right;\">\n",
       "      <th></th>\n",
       "      <th>pickup_datetime</th>\n",
       "      <th>pickup_latitude</th>\n",
       "      <th>pickup_longitude</th>\n",
       "      <th>base</th>\n",
       "      <th>NTA</th>\n",
       "      <th>month</th>\n",
       "      <th>day</th>\n",
       "      <th>hour</th>\n",
       "      <th>weekday</th>\n",
       "      <th>monthday</th>\n",
       "      <th>yearday</th>\n",
       "    </tr>\n",
       "  </thead>\n",
       "  <tbody>\n",
       "    <tr>\n",
       "      <th>0</th>\n",
       "      <td>2014-04-26 20:54:00</td>\n",
       "      <td>40.6102</td>\n",
       "      <td>-73.9624</td>\n",
       "      <td>B02682</td>\n",
       "      <td>BK43</td>\n",
       "      <td>4</td>\n",
       "      <td>2014-04-26</td>\n",
       "      <td>20</td>\n",
       "      <td>5</td>\n",
       "      <td>26</td>\n",
       "      <td>116</td>\n",
       "    </tr>\n",
       "    <tr>\n",
       "      <th>1</th>\n",
       "      <td>2014-09-01 10:13:00</td>\n",
       "      <td>40.6102</td>\n",
       "      <td>-73.9611</td>\n",
       "      <td>B02598</td>\n",
       "      <td>BK43</td>\n",
       "      <td>9</td>\n",
       "      <td>2014-09-01</td>\n",
       "      <td>10</td>\n",
       "      <td>0</td>\n",
       "      <td>1</td>\n",
       "      <td>244</td>\n",
       "    </tr>\n",
       "    <tr>\n",
       "      <th>2</th>\n",
       "      <td>2014-08-15 10:17:00</td>\n",
       "      <td>40.6102</td>\n",
       "      <td>-73.9610</td>\n",
       "      <td>B02598</td>\n",
       "      <td>BK43</td>\n",
       "      <td>8</td>\n",
       "      <td>2014-08-15</td>\n",
       "      <td>10</td>\n",
       "      <td>4</td>\n",
       "      <td>15</td>\n",
       "      <td>227</td>\n",
       "    </tr>\n",
       "    <tr>\n",
       "      <th>3</th>\n",
       "      <td>2014-08-18 09:41:00</td>\n",
       "      <td>40.6102</td>\n",
       "      <td>-73.9609</td>\n",
       "      <td>B02617</td>\n",
       "      <td>BK43</td>\n",
       "      <td>8</td>\n",
       "      <td>2014-08-18</td>\n",
       "      <td>9</td>\n",
       "      <td>0</td>\n",
       "      <td>18</td>\n",
       "      <td>230</td>\n",
       "    </tr>\n",
       "    <tr>\n",
       "      <th>4</th>\n",
       "      <td>2014-09-10 10:14:00</td>\n",
       "      <td>40.6103</td>\n",
       "      <td>-73.9623</td>\n",
       "      <td>B02598</td>\n",
       "      <td>BK43</td>\n",
       "      <td>9</td>\n",
       "      <td>2014-09-10</td>\n",
       "      <td>10</td>\n",
       "      <td>2</td>\n",
       "      <td>10</td>\n",
       "      <td>253</td>\n",
       "    </tr>\n",
       "  </tbody>\n",
       "</table>\n",
       "</div>"
      ],
      "text/plain": [
       "      pickup_datetime  pickup_latitude  pickup_longitude    base   NTA  month  \\\n",
       "0 2014-04-26 20:54:00          40.6102          -73.9624  B02682  BK43      4   \n",
       "1 2014-09-01 10:13:00          40.6102          -73.9611  B02598  BK43      9   \n",
       "2 2014-08-15 10:17:00          40.6102          -73.9610  B02598  BK43      8   \n",
       "3 2014-08-18 09:41:00          40.6102          -73.9609  B02617  BK43      8   \n",
       "4 2014-09-10 10:14:00          40.6103          -73.9623  B02598  BK43      9   \n",
       "\n",
       "          day  hour  weekday  monthday yearday  \n",
       "0  2014-04-26    20        5        26     116  \n",
       "1  2014-09-01    10        0         1     244  \n",
       "2  2014-08-15    10        4        15     227  \n",
       "3  2014-08-18     9        0        18     230  \n",
       "4  2014-09-10    10        2        10     253  "
      ]
     },
     "execution_count": 95,
     "metadata": {},
     "output_type": "execute_result"
    }
   ],
   "source": [
    "Uber2014.head()"
   ]
  },
  {
   "cell_type": "code",
   "execution_count": 97,
   "metadata": {},
   "outputs": [],
   "source": [
    "##check the distribution by month, by day, by day of the month, by day of the week\n",
    "df_month = Uber2014[\"month\"].value_counts().reset_index()\n",
    "df_month[\"index\"] = df_month[\"index\"].astype(int)\n",
    "df_month.columns = [\"month\", \"trip_count\"]\n",
    "\n",
    "df_yearday = Uber2014[\"yearday\"].value_counts().reset_index()\n",
    "df_yearday[\"index\"] = df_yearday[\"index\"].astype(int)\n",
    "df_yearday.columns = [\"yearday\", \"trip_count\"]\n",
    "\n",
    "df_hour = Uber2014[\"hour\"].value_counts().reset_index()\n",
    "df_hour[\"index\"] = df_hour[\"index\"].astype(int)\n",
    "df_hour.columns = [\"hour\", \"trip_count\"]\n",
    "\n",
    "df_weekday = Uber2014[\"weekday\"].value_counts().reset_index()\n",
    "df_weekday[\"index\"] = df_weekday[\"index\"].astype(int)\n",
    "df_weekday.columns = [\"weekday\", \"trip_count\"]\n",
    "\n",
    "df_monthday = Uber2014[\"monthday\"].value_counts().reset_index()\n",
    "df_monthday[\"index\"] = df_monthday[\"index\"].astype(int)\n",
    "df_monthday.columns = [\"monthday\", \"trip_count\"]"
   ]
  },
  {
   "cell_type": "code",
   "execution_count": 107,
   "metadata": {},
   "outputs": [
    {
     "data": {
      "text/plain": [
       "Text(0.5, 0, 'hour per day')"
      ]
     },
     "execution_count": 107,
     "metadata": {},
     "output_type": "execute_result"
    },
    {
     "data": {
      "image/png": "[encoded data removed]",
      "text/plain": [
       "<Figure size 1080x1080 with 6 Axes>"
      ]
     },
     "metadata": {
      "needs_background": "light"
     },
     "output_type": "display_data"
    }
   ],
   "source": [
    "###draw plots to see the correlation\n",
    "from pylab import rcParams\n",
    "rcParams['figure.figsize'] = 15, 15\n",
    "fig,ax = plt.subplots(3, 2)\n",
    "plt.subplot(3,2,1)\n",
    "plt.scatter(x = \"month\", y = \"trip_count\", data = df_month)\n",
    "plt.xlabel('month', fontsize=18)\n",
    "plt.subplot(3,2,2)\n",
    "plt.scatter(x = \"yearday\", y = \"trip_count\", data = df_yearday)\n",
    "plt.xlabel('day as number in a year', fontsize=18)\n",
    "plt.subplot(3,2,3)\n",
    "plt.scatter(x = \"monthday\", y = \"trip_count\", data = df_monthday)\n",
    "plt.xlabel('day per month', fontsize=18)\n",
    "plt.subplot(3,2,4)\n",
    "plt.scatter(x = \"weekday\", y = \"trip_count\", data = df_weekday)\n",
    "plt.xlabel('day per week', fontsize=18)\n",
    "plt.subplot(3,2,5)\n",
    "plt.scatter(x = \"hour\", y = \"trip_count\", data = df_hour)\n",
    "plt.xlabel('hour per day', fontsize=18)"
   ]
  },
  {
   "cell_type": "code",
   "execution_count": null,
   "metadata": {},
   "outputs": [],
   "source": [
    "###summary for timestamp information\n",
    "#(1) month: keep increasing by month, may because the \"general weather\" gets warmer, or Uber is taking over the market!\n",
    "#(2) days in year: similar trend as month\n",
    "#(3) days in month: slightly increase, day 31 drop: months without 31 days\n",
    "#(4) days in week: strong relation, increase by number, low in Sunday?? Interesting, maybe people prefer to stay home\n",
    "#(5) hours in day: Very interesting, morning has small peak, afternoon rush hour the highest demand."
   ]
  }
 ],
 "metadata": {
  "kernelspec": {
   "display_name": "Python 3",
   "language": "python",
   "name": "python3"
  },
  "language_info": {
   "codemirror_mode": {
    "name": "ipython",
    "version": 3
   },
   "file_extension": ".py",
   "mimetype": "text/x-python",
   "name": "python",
   "nbconvert_exporter": "python",
   "pygments_lexer": "ipython3",
   "version": "3.7.1"
  }
 },
 "nbformat": 4,
 "nbformat_minor": 2
}
