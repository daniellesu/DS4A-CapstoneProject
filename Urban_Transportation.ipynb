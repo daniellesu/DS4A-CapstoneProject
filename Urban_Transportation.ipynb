{
 "cells": [
  {
   "cell_type": "markdown",
   "metadata": {},
   "source": [
    "# Urban Transportation"
   ]
  },
  {
   "cell_type": "code",
   "execution_count": 1,
   "metadata": {},
   "outputs": [],
   "source": [
    "import numpy                 as np\n",
    "import pandas                as pd\n",
    "import matplotlib.pyplot     as plt\n",
    "import seaborn               as sns\n",
    "from shapely.geometry import Point\n",
    "from shapely.geometry.polygon import Polygon\n",
    "from shapely.geometry.multipolygon import MultiPolygon\n",
    "from shapely import wkt\n",
    "import shapely.vectorized\n",
    "from itertools import compress\n",
    "\n",
    "import warnings; warnings.simplefilter('ignore')\n",
    "%matplotlib inline\n",
    "sns.set()"
   ]
  },
  {
   "cell_type": "code",
   "execution_count": 2,
   "metadata": {},
   "outputs": [],
   "source": [
    "yellow_cabs = pd.read_csv(\"yellow_trips.csv\")"
   ]
  },
  {
   "cell_type": "code",
   "execution_count": 3,
   "metadata": {},
   "outputs": [
    {
     "data": {
      "text/html": [
       "<div>\n",
       "<style scoped>\n",
       "    .dataframe tbody tr th:only-of-type {\n",
       "        vertical-align: middle;\n",
       "    }\n",
       "\n",
       "    .dataframe tbody tr th {\n",
       "        vertical-align: top;\n",
       "    }\n",
       "\n",
       "    .dataframe thead th {\n",
       "        text-align: right;\n",
       "    }\n",
       "</style>\n",
       "<table border=\"1\" class=\"dataframe\">\n",
       "  <thead>\n",
       "    <tr style=\"text-align: right;\">\n",
       "      <th></th>\n",
       "      <th>pickup_datetime</th>\n",
       "      <th>dropoff_datetime</th>\n",
       "      <th>pickup_longitude</th>\n",
       "      <th>pickup_latitude</th>\n",
       "      <th>dropoff_longitude</th>\n",
       "      <th>dropoff_latitude</th>\n",
       "      <th>passenger_count</th>\n",
       "      <th>trip_distance</th>\n",
       "      <th>total_amount</th>\n",
       "    </tr>\n",
       "  </thead>\n",
       "  <tbody>\n",
       "    <tr>\n",
       "      <th>0</th>\n",
       "      <td>2014-04-03 18:28:10</td>\n",
       "      <td>2014-04-03 18:54:32</td>\n",
       "      <td>-74.006033</td>\n",
       "      <td>40.706284</td>\n",
       "      <td>-73.918837</td>\n",
       "      <td>40.744946</td>\n",
       "      <td>1</td>\n",
       "      <td>8.70</td>\n",
       "      <td>34.8</td>\n",
       "    </tr>\n",
       "    <tr>\n",
       "      <th>1</th>\n",
       "      <td>2014-04-16 15:42:00</td>\n",
       "      <td>2014-04-16 16:07:00</td>\n",
       "      <td>-73.979558</td>\n",
       "      <td>40.749357</td>\n",
       "      <td>0.000000</td>\n",
       "      <td>0.000000</td>\n",
       "      <td>1</td>\n",
       "      <td>9.37</td>\n",
       "      <td>30.0</td>\n",
       "    </tr>\n",
       "    <tr>\n",
       "      <th>2</th>\n",
       "      <td>2014-04-13 18:04:00</td>\n",
       "      <td>2014-04-13 18:07:00</td>\n",
       "      <td>-73.956453</td>\n",
       "      <td>40.775307</td>\n",
       "      <td>-73.954792</td>\n",
       "      <td>40.784992</td>\n",
       "      <td>1</td>\n",
       "      <td>0.89</td>\n",
       "      <td>6.5</td>\n",
       "    </tr>\n",
       "    <tr>\n",
       "      <th>3</th>\n",
       "      <td>2014-05-21 19:33:00</td>\n",
       "      <td>2014-05-21 19:45:00</td>\n",
       "      <td>-73.987212</td>\n",
       "      <td>40.757850</td>\n",
       "      <td>-73.960198</td>\n",
       "      <td>40.775472</td>\n",
       "      <td>1</td>\n",
       "      <td>2.40</td>\n",
       "      <td>12.5</td>\n",
       "    </tr>\n",
       "    <tr>\n",
       "      <th>4</th>\n",
       "      <td>2014-05-30 16:28:00</td>\n",
       "      <td>2014-05-30 16:51:00</td>\n",
       "      <td>-73.974292</td>\n",
       "      <td>40.755397</td>\n",
       "      <td>-74.011867</td>\n",
       "      <td>40.704222</td>\n",
       "      <td>3</td>\n",
       "      <td>5.58</td>\n",
       "      <td>24.5</td>\n",
       "    </tr>\n",
       "  </tbody>\n",
       "</table>\n",
       "</div>"
      ],
      "text/plain": [
       "       pickup_datetime     dropoff_datetime  pickup_longitude  \\\n",
       "0  2014-04-03 18:28:10  2014-04-03 18:54:32        -74.006033   \n",
       "1  2014-04-16 15:42:00  2014-04-16 16:07:00        -73.979558   \n",
       "2  2014-04-13 18:04:00  2014-04-13 18:07:00        -73.956453   \n",
       "3  2014-05-21 19:33:00  2014-05-21 19:45:00        -73.987212   \n",
       "4  2014-05-30 16:28:00  2014-05-30 16:51:00        -73.974292   \n",
       "\n",
       "   pickup_latitude  dropoff_longitude  dropoff_latitude  passenger_count  \\\n",
       "0        40.706284         -73.918837         40.744946                1   \n",
       "1        40.749357           0.000000          0.000000                1   \n",
       "2        40.775307         -73.954792         40.784992                1   \n",
       "3        40.757850         -73.960198         40.775472                1   \n",
       "4        40.755397         -74.011867         40.704222                3   \n",
       "\n",
       "   trip_distance  total_amount  \n",
       "0           8.70          34.8  \n",
       "1           9.37          30.0  \n",
       "2           0.89           6.5  \n",
       "3           2.40          12.5  \n",
       "4           5.58          24.5  "
      ]
     },
     "execution_count": 3,
     "metadata": {},
     "output_type": "execute_result"
    }
   ],
   "source": [
    "yellow_cabs.head()"
   ]
  },
  {
   "cell_type": "code",
   "execution_count": 5,
   "metadata": {},
   "outputs": [],
   "source": [
    "uber_2014 = pd.read_csv(\"uber_trips_2014.csv\")"
   ]
  },
  {
   "cell_type": "code",
   "execution_count": 6,
   "metadata": {},
   "outputs": [
    {
     "data": {
      "text/html": [
       "<div>\n",
       "<style scoped>\n",
       "    .dataframe tbody tr th:only-of-type {\n",
       "        vertical-align: middle;\n",
       "    }\n",
       "\n",
       "    .dataframe tbody tr th {\n",
       "        vertical-align: top;\n",
       "    }\n",
       "\n",
       "    .dataframe thead th {\n",
       "        text-align: right;\n",
       "    }\n",
       "</style>\n",
       "<table border=\"1\" class=\"dataframe\">\n",
       "  <thead>\n",
       "    <tr style=\"text-align: right;\">\n",
       "      <th></th>\n",
       "      <th>pickup_datetime</th>\n",
       "      <th>pickup_latitude</th>\n",
       "      <th>pickup_longitude</th>\n",
       "      <th>base</th>\n",
       "    </tr>\n",
       "  </thead>\n",
       "  <tbody>\n",
       "    <tr>\n",
       "      <th>0</th>\n",
       "      <td>4/1/14 0:11</td>\n",
       "      <td>40.7690</td>\n",
       "      <td>-73.9549</td>\n",
       "      <td>B02512</td>\n",
       "    </tr>\n",
       "    <tr>\n",
       "      <th>1</th>\n",
       "      <td>4/1/14 0:17</td>\n",
       "      <td>40.7267</td>\n",
       "      <td>-74.0345</td>\n",
       "      <td>B02512</td>\n",
       "    </tr>\n",
       "    <tr>\n",
       "      <th>2</th>\n",
       "      <td>4/1/14 0:21</td>\n",
       "      <td>40.7316</td>\n",
       "      <td>-73.9873</td>\n",
       "      <td>B02512</td>\n",
       "    </tr>\n",
       "    <tr>\n",
       "      <th>3</th>\n",
       "      <td>4/1/14 0:28</td>\n",
       "      <td>40.7588</td>\n",
       "      <td>-73.9776</td>\n",
       "      <td>B02512</td>\n",
       "    </tr>\n",
       "    <tr>\n",
       "      <th>4</th>\n",
       "      <td>4/1/14 0:33</td>\n",
       "      <td>40.7594</td>\n",
       "      <td>-73.9722</td>\n",
       "      <td>B02512</td>\n",
       "    </tr>\n",
       "  </tbody>\n",
       "</table>\n",
       "</div>"
      ],
      "text/plain": [
       "  pickup_datetime  pickup_latitude  pickup_longitude    base\n",
       "0     4/1/14 0:11          40.7690          -73.9549  B02512\n",
       "1     4/1/14 0:17          40.7267          -74.0345  B02512\n",
       "2     4/1/14 0:21          40.7316          -73.9873  B02512\n",
       "3     4/1/14 0:28          40.7588          -73.9776  B02512\n",
       "4     4/1/14 0:33          40.7594          -73.9722  B02512"
      ]
     },
     "execution_count": 6,
     "metadata": {},
     "output_type": "execute_result"
    }
   ],
   "source": [
    "uber_2014.head()"
   ]
  },
  {
   "cell_type": "code",
   "execution_count": 7,
   "metadata": {},
   "outputs": [
    {
     "data": {
      "text/plain": [
       "count     4534327\n",
       "unique          5\n",
       "top        B02617\n",
       "freq      1458853\n",
       "Name: base, dtype: object"
      ]
     },
     "execution_count": 7,
     "metadata": {},
     "output_type": "execute_result"
    }
   ],
   "source": [
    "uber_2014.base.describe()"
   ]
  },
  {
   "cell_type": "code",
   "execution_count": 11,
   "metadata": {},
   "outputs": [],
   "source": [
    "uber_2015 = pd.read_csv(\"uber_trips_2015.csv\")"
   ]
  },
  {
   "cell_type": "code",
   "execution_count": 15,
   "metadata": {},
   "outputs": [
    {
     "data": {
      "text/plain": [
       "count    1.427048e+07\n",
       "mean     1.520574e+02\n",
       "std      7.159620e+01\n",
       "min      1.000000e+00\n",
       "25%      9.200000e+01\n",
       "50%      1.570000e+02\n",
       "75%      2.300000e+02\n",
       "max      2.650000e+02\n",
       "Name: pickup_location_id, dtype: float64"
      ]
     },
     "execution_count": 15,
     "metadata": {},
     "output_type": "execute_result"
    }
   ],
   "source": [
    "uber_2015.pickup_location_id.describe()"
   ]
  },
  {
   "cell_type": "code",
   "execution_count": 9,
   "metadata": {},
   "outputs": [],
   "source": [
    "zones = pd.read_csv(\"zones.csv\")"
   ]
  },
  {
   "cell_type": "code",
   "execution_count": 10,
   "metadata": {},
   "outputs": [
    {
     "data": {
      "text/html": [
       "<div>\n",
       "<style scoped>\n",
       "    .dataframe tbody tr th:only-of-type {\n",
       "        vertical-align: middle;\n",
       "    }\n",
       "\n",
       "    .dataframe tbody tr th {\n",
       "        vertical-align: top;\n",
       "    }\n",
       "\n",
       "    .dataframe thead th {\n",
       "        text-align: right;\n",
       "    }\n",
       "</style>\n",
       "<table border=\"1\" class=\"dataframe\">\n",
       "  <thead>\n",
       "    <tr style=\"text-align: right;\">\n",
       "      <th></th>\n",
       "      <th>location_id</th>\n",
       "      <th>borough</th>\n",
       "      <th>zone</th>\n",
       "      <th>service_zone</th>\n",
       "      <th>nta_code</th>\n",
       "    </tr>\n",
       "  </thead>\n",
       "  <tbody>\n",
       "    <tr>\n",
       "      <th>0</th>\n",
       "      <td>1</td>\n",
       "      <td>EWR</td>\n",
       "      <td>Newark Airport</td>\n",
       "      <td>EWR</td>\n",
       "      <td>NJ01</td>\n",
       "    </tr>\n",
       "    <tr>\n",
       "      <th>1</th>\n",
       "      <td>2</td>\n",
       "      <td>Queens</td>\n",
       "      <td>Jamaica Bay</td>\n",
       "      <td>Boro Zone</td>\n",
       "      <td>QN61</td>\n",
       "    </tr>\n",
       "    <tr>\n",
       "      <th>2</th>\n",
       "      <td>3</td>\n",
       "      <td>Bronx</td>\n",
       "      <td>Allerton/Pelham Gardens</td>\n",
       "      <td>Boro Zone</td>\n",
       "      <td>BX31</td>\n",
       "    </tr>\n",
       "    <tr>\n",
       "      <th>3</th>\n",
       "      <td>4</td>\n",
       "      <td>Manhattan</td>\n",
       "      <td>Alphabet City</td>\n",
       "      <td>Yellow Zone</td>\n",
       "      <td>MN22</td>\n",
       "    </tr>\n",
       "    <tr>\n",
       "      <th>4</th>\n",
       "      <td>5</td>\n",
       "      <td>Staten Island</td>\n",
       "      <td>Arden Heights</td>\n",
       "      <td>Boro Zone</td>\n",
       "      <td>SI48</td>\n",
       "    </tr>\n",
       "  </tbody>\n",
       "</table>\n",
       "</div>"
      ],
      "text/plain": [
       "   location_id        borough                     zone service_zone nta_code\n",
       "0            1            EWR           Newark Airport          EWR     NJ01\n",
       "1            2         Queens              Jamaica Bay    Boro Zone     QN61\n",
       "2            3          Bronx  Allerton/Pelham Gardens    Boro Zone     BX31\n",
       "3            4      Manhattan            Alphabet City  Yellow Zone     MN22\n",
       "4            5  Staten Island            Arden Heights    Boro Zone     SI48"
      ]
     },
     "execution_count": 10,
     "metadata": {},
     "output_type": "execute_result"
    }
   ],
   "source": [
    "zones.head()"
   ]
  },
  {
   "cell_type": "code",
   "execution_count": 13,
   "metadata": {},
   "outputs": [
    {
     "data": {
      "text/plain": [
       "count    263.000000\n",
       "mean     132.000000\n",
       "std       76.065761\n",
       "min        1.000000\n",
       "25%       66.500000\n",
       "50%      132.000000\n",
       "75%      197.500000\n",
       "max      263.000000\n",
       "Name: location_id, dtype: float64"
      ]
     },
     "execution_count": 13,
     "metadata": {},
     "output_type": "execute_result"
    }
   ],
   "source": [
    "zones.location_id.describe()"
   ]
  },
  {
   "cell_type": "markdown",
   "metadata": {},
   "source": [
    "## Assign NTA label to Uber Data"
   ]
  },
  {
   "cell_type": "code",
   "execution_count": 219,
   "metadata": {},
   "outputs": [],
   "source": [
    "geo_given = pd.read_csv(\"geographic.csv\")"
   ]
  },
  {
   "cell_type": "markdown",
   "metadata": {},
   "source": [
    "even rows = longitude [::2]\n",
    "odd rows = lattitude[1::2]"
   ]
  },
  {
   "cell_type": "code",
   "execution_count": 221,
   "metadata": {},
   "outputs": [],
   "source": [
    "geo_new = pd.read_csv(\"nynta.csv\")"
   ]
  },
  {
   "cell_type": "code",
   "execution_count": 222,
   "metadata": {},
   "outputs": [],
   "source": [
    "def create_polygons(geo_df):\n",
    "    poly_dict = {}\n",
    "    for i in range(geo_df.shape[0]):\n",
    "        poly_dict[geo_df.NTACode[i]] = wkt.loads(geo_df.the_geom[i])\n",
    "    return poly_dict"
   ]
  },
  {
   "cell_type": "code",
   "execution_count": 310,
   "metadata": {},
   "outputs": [],
   "source": [
    "points = uber_2014[:10].apply(lambda x: Point(x[\"pickup_longitude\"], x[\"pickup_latitude\"]), axis=1)"
   ]
  },
  {
   "cell_type": "code",
   "execution_count": 309,
   "metadata": {},
   "outputs": [
    {
     "name": "stdout",
     "output_type": "stream",
     "text": [
      "1.19 ms ± 33.8 µs per loop (mean ± std. dev. of 7 runs, 1000 loops each)\n"
     ]
    }
   ],
   "source": [
    "%timeit uber_2014[:10].apply(lambda x: Point(x[\"pickup_longitude\"], x[\"pickup_latitude\"]), axis=1)"
   ]
  },
  {
   "cell_type": "code",
   "execution_count": 489,
   "metadata": {},
   "outputs": [],
   "source": [
    "sample = uber_2014[:100]"
   ]
  },
  {
   "cell_type": "code",
   "execution_count": 496,
   "metadata": {},
   "outputs": [],
   "source": [
    "# function for iterating and assigning through NTAs given polygons and a dataframe you want to assign to\n",
    "def assign_nta(df, poly_dict):\n",
    "    tmp = df.sort_values(by=[\"pickup_latitude\", \"pickup_longitude\"])\n",
    "    arr = tmp.values\n",
    "    known = np.empty((0, 4))\n",
    "    nta_list = []\n",
    "    unk = arr\n",
    "    for i, key in enumerate(poly_dict.keys()):\n",
    "        print(i, key)\n",
    "        vals = shapely.vectorized.contains(poly_dict[key],unk[:, 2], unk[:, 1])\n",
    "        idx = list(compress(range(len(vals)), vals))\n",
    "        nta_list.extend([key] * len(idx))\n",
    "        known = np.append(known, arr[idx], axis=0)\n",
    "        unk = np.delete(unk, idx, axis=0)\n",
    "    nta_list.extend([np.nan] * unk.shape[0])\n",
    "    new_df = pd.DataFrame(np.append(known, unk, axis=0), columns=df.columns)\n",
    "    new_df[\"NTA\"] = nta_list\n",
    "    return new_df"
   ]
  },
  {
   "cell_type": "code",
   "execution_count": 498,
   "metadata": {},
   "outputs": [
    {
     "name": "stdout",
     "output_type": "stream",
     "text": [
      "0 BK43\n",
      "1 BK75\n",
      "2 BX40\n",
      "3 BK88\n",
      "4 BK96\n",
      "5 QN52\n",
      "6 QN53\n",
      "7 BK44\n",
      "8 QN48\n",
      "9 BX44\n",
      "10 QN51\n",
      "11 QN27\n",
      "12 BK81\n",
      "13 BK85\n",
      "14 BK41\n",
      "15 BX46\n",
      "16 BK95\n",
      "17 QN33\n",
      "18 BK91\n",
      "19 BK46\n",
      "20 BK93\n",
      "21 BX35\n",
      "22 QN29\n",
      "23 MN22\n",
      "24 QN44\n",
      "25 BX33\n",
      "26 MN32\n",
      "27 MN40\n",
      "28 BK40\n",
      "29 QN12\n",
      "30 BX98\n",
      "31 BX27\n",
      "32 QN28\n",
      "33 BK27\n",
      "34 SI36\n",
      "35 BK42\n",
      "36 BX34\n",
      "37 BK79\n",
      "38 MN09\n",
      "39 BX55\n",
      "40 BX31\n",
      "41 QN06\n",
      "42 QN07\n",
      "43 BK58\n",
      "44 BK82\n",
      "45 BX30\n",
      "46 QN02\n",
      "47 BK50\n",
      "48 BX43\n",
      "49 MN06\n",
      "50 MN23\n",
      "51 SI14\n",
      "52 QN34\n",
      "53 MN27\n",
      "54 BX10\n",
      "55 BX62\n",
      "56 QN71\n",
      "57 QN70\n",
      "58 MN50\n",
      "59 BK30\n",
      "60 BK28\n",
      "61 SI22\n",
      "62 SI35\n",
      "63 SI07\n",
      "64 BX36\n",
      "65 QN46\n",
      "66 BK61\n",
      "67 BX14\n",
      "68 QN26\n",
      "69 BK83\n",
      "70 QN37\n",
      "71 QN38\n",
      "72 BK73\n",
      "73 MN28\n",
      "74 BK76\n",
      "75 BX29\n",
      "76 BK34\n",
      "77 MN01\n",
      "78 BK25\n",
      "79 MN35\n",
      "80 QN72\n",
      "81 BX39\n",
      "82 BK23\n",
      "83 MN03\n",
      "84 QN68\n",
      "85 SI45\n",
      "86 BX28\n",
      "87 BX13\n",
      "88 BK31\n",
      "89 BK32\n",
      "90 BK68\n",
      "91 MN24\n",
      "92 MN25\n",
      "93 MN15\n",
      "94 BK64\n",
      "95 QN76\n",
      "96 QN01\n",
      "97 QN56\n",
      "98 BK45\n",
      "99 BK19\n",
      "100 BK29\n",
      "101 BX08\n",
      "102 BK17\n",
      "103 BX59\n",
      "104 SI25\n",
      "105 SI08\n",
      "106 BK37\n",
      "107 SI37\n",
      "108 QN41\n",
      "109 QN43\n",
      "110 BK35\n",
      "111 BK90\n",
      "112 QN20\n",
      "113 MN33\n",
      "114 QN18\n",
      "115 MN34\n",
      "116 BK77\n",
      "117 BK78\n",
      "118 MN11\n",
      "119 QN23\n",
      "120 MN17\n",
      "121 QN19\n",
      "122 SI11\n",
      "123 SI99\n",
      "124 SI05\n",
      "125 SI24\n",
      "126 QN55\n",
      "127 QN57\n",
      "128 BK60\n",
      "129 MN20\n",
      "130 SI12\n",
      "131 BK63\n",
      "132 BK09\n",
      "133 SI28\n",
      "134 QN31\n",
      "135 BX01\n",
      "136 BX37\n",
      "137 BX49\n",
      "138 BX41\n",
      "139 QN47\n",
      "140 QN49\n",
      "141 MN19\n",
      "142 MN31\n",
      "143 QN50\n",
      "144 QN63\n",
      "145 QN08\n",
      "146 QN66\n",
      "147 MN04\n",
      "148 QN61\n",
      "149 QN54\n",
      "150 QN35\n",
      "151 QN60\n",
      "152 QN21\n",
      "153 QN30\n",
      "154 MN12\n",
      "155 MN14\n",
      "156 BX07\n",
      "157 QN42\n",
      "158 QN45\n",
      "159 SI01\n",
      "160 SI54\n",
      "161 BK21\n",
      "162 QN25\n",
      "163 BX52\n",
      "164 BK26\n",
      "165 BX17\n",
      "166 BX22\n",
      "167 BX05\n",
      "168 BX06\n",
      "169 BX03\n",
      "170 QN10\n",
      "171 BX75\n",
      "172 SI32\n",
      "173 SI48\n",
      "174 QN15\n",
      "175 BX09\n",
      "176 BX99\n",
      "177 BK33\n",
      "178 MN99\n",
      "179 QN05\n",
      "180 QN22\n",
      "181 QN62\n",
      "182 MN13\n",
      "183 MN21\n",
      "184 BK38\n",
      "185 BK69\n",
      "186 BK72\n",
      "187 BK99\n",
      "188 MN36\n",
      "189 BX26\n",
      "190 BX63\n",
      "191 QN17\n",
      "192 QN99\n",
      "193 QN03\n",
      "194 QN98\n"
     ]
    }
   ],
   "source": [
    "new_df = assign_nta(uber_2014, poly_dict)"
   ]
  },
  {
   "cell_type": "code",
   "execution_count": 504,
   "metadata": {},
   "outputs": [],
   "source": [
    "new_df.to_csv(\"uber_2014_NTA.csv\", index=False)"
   ]
  }
 ],
 "metadata": {
  "kernelspec": {
   "display_name": "ds4a",
   "language": "python",
   "name": "ds4a"
  },
  "language_info": {
   "codemirror_mode": {
    "name": "ipython",
    "version": 3
   },
   "file_extension": ".py",
   "mimetype": "text/x-python",
   "name": "python",
   "nbconvert_exporter": "python",
   "pygments_lexer": "ipython3",
   "version": "3.7.3"
  }
 },
 "nbformat": 4,
 "nbformat_minor": 2
}
